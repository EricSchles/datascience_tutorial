{
 "cells": [
  {
   "cell_type": "code",
   "execution_count": 33,
   "metadata": {},
   "outputs": [],
   "source": [
    "import pandas as pd\n",
    "import numpy as np\n",
    "import matplotlib.pyplot as plt"
   ]
  },
  {
   "cell_type": "code",
   "execution_count": 14,
   "metadata": {},
   "outputs": [],
   "source": [
    "df = pd.read_csv(\"coronavirus-data/by-boro.csv\")"
   ]
  },
  {
   "cell_type": "code",
   "execution_count": 4,
   "metadata": {},
   "outputs": [
    {
     "data": {
      "text/plain": [
       "(6, 7)"
      ]
     },
     "execution_count": 4,
     "metadata": {},
     "output_type": "execute_result"
    }
   ],
   "source": [
    "df.shape"
   ]
  },
  {
   "cell_type": "code",
   "execution_count": 5,
   "metadata": {},
   "outputs": [
    {
     "data": {
      "text/html": [
       "<div>\n",
       "<style scoped>\n",
       "    .dataframe tbody tr th:only-of-type {\n",
       "        vertical-align: middle;\n",
       "    }\n",
       "\n",
       "    .dataframe tbody tr th {\n",
       "        vertical-align: top;\n",
       "    }\n",
       "\n",
       "    .dataframe thead th {\n",
       "        text-align: right;\n",
       "    }\n",
       "</style>\n",
       "<table border=\"1\" class=\"dataframe\">\n",
       "  <thead>\n",
       "    <tr style=\"text-align: right;\">\n",
       "      <th></th>\n",
       "      <th>BOROUGH_GROUP</th>\n",
       "      <th>CASE_RATE</th>\n",
       "      <th>HOSPITALIZED_RATE</th>\n",
       "      <th>DEATH_RATE</th>\n",
       "      <th>CASE_COUNT</th>\n",
       "      <th>HOSPITALIZED_COUNT</th>\n",
       "      <th>DEATH_COUNT</th>\n",
       "    </tr>\n",
       "  </thead>\n",
       "  <tbody>\n",
       "    <tr>\n",
       "      <th>0</th>\n",
       "      <td>Bronx</td>\n",
       "      <td>3048.04</td>\n",
       "      <td>799.30</td>\n",
       "      <td>239.29</td>\n",
       "      <td>43652</td>\n",
       "      <td>11447</td>\n",
       "      <td>3427</td>\n",
       "    </tr>\n",
       "    <tr>\n",
       "      <th>1</th>\n",
       "      <td>Brooklyn</td>\n",
       "      <td>2034.63</td>\n",
       "      <td>527.99</td>\n",
       "      <td>190.57</td>\n",
       "      <td>52551</td>\n",
       "      <td>13637</td>\n",
       "      <td>4922</td>\n",
       "    </tr>\n",
       "    <tr>\n",
       "      <th>2</th>\n",
       "      <td>Manhattan</td>\n",
       "      <td>1466.26</td>\n",
       "      <td>456.19</td>\n",
       "      <td>134.59</td>\n",
       "      <td>23881</td>\n",
       "      <td>7430</td>\n",
       "      <td>2192</td>\n",
       "    </tr>\n",
       "    <tr>\n",
       "      <th>3</th>\n",
       "      <td>Queens</td>\n",
       "      <td>2596.60</td>\n",
       "      <td>699.59</td>\n",
       "      <td>211.77</td>\n",
       "      <td>59174</td>\n",
       "      <td>15943</td>\n",
       "      <td>4826</td>\n",
       "    </tr>\n",
       "    <tr>\n",
       "      <th>4</th>\n",
       "      <td>StatenIsland</td>\n",
       "      <td>2733.64</td>\n",
       "      <td>463.06</td>\n",
       "      <td>162.54</td>\n",
       "      <td>13017</td>\n",
       "      <td>2205</td>\n",
       "      <td>774</td>\n",
       "    </tr>\n",
       "    <tr>\n",
       "      <th>5</th>\n",
       "      <td>Citywide</td>\n",
       "      <td>2290.51</td>\n",
       "      <td>603.52</td>\n",
       "      <td>192.33</td>\n",
       "      <td>192374</td>\n",
       "      <td>50688</td>\n",
       "      <td>16153</td>\n",
       "    </tr>\n",
       "  </tbody>\n",
       "</table>\n",
       "</div>"
      ],
      "text/plain": [
       "  BOROUGH_GROUP  CASE_RATE  HOSPITALIZED_RATE  DEATH_RATE  CASE_COUNT  \\\n",
       "0         Bronx    3048.04             799.30      239.29       43652   \n",
       "1      Brooklyn    2034.63             527.99      190.57       52551   \n",
       "2     Manhattan    1466.26             456.19      134.59       23881   \n",
       "3        Queens    2596.60             699.59      211.77       59174   \n",
       "4  StatenIsland    2733.64             463.06      162.54       13017   \n",
       "5      Citywide    2290.51             603.52      192.33      192374   \n",
       "\n",
       "   HOSPITALIZED_COUNT  DEATH_COUNT  \n",
       "0               11447         3427  \n",
       "1               13637         4922  \n",
       "2                7430         2192  \n",
       "3               15943         4826  \n",
       "4                2205          774  \n",
       "5               50688        16153  "
      ]
     },
     "execution_count": 5,
     "metadata": {},
     "output_type": "execute_result"
    }
   ],
   "source": [
    "df"
   ]
  },
  {
   "cell_type": "code",
   "execution_count": 15,
   "metadata": {},
   "outputs": [
    {
     "data": {
      "text/plain": [
       "BOROUGH_GROUP\n",
       "Bronx           0.078507\n",
       "Brooklyn        0.093661\n",
       "Manhattan       0.091788\n",
       "Queens          0.081556\n",
       "StatenIsland    0.059461\n",
       "Citywide        0.083967\n",
       "dtype: float64"
      ]
     },
     "execution_count": 15,
     "metadata": {},
     "output_type": "execute_result"
    }
   ],
   "source": [
    "result = df[\"DEATH_COUNT\"]/df[\"CASE_COUNT\"]\n",
    "result.index = df[\"BOROUGH_GROUP\"]\n",
    "result"
   ]
  },
  {
   "cell_type": "code",
   "execution_count": 9,
   "metadata": {},
   "outputs": [],
   "source": [
    "df = pd.read_csv(\"coronavirus-data/by-age.csv\")"
   ]
  },
  {
   "cell_type": "code",
   "execution_count": 13,
   "metadata": {},
   "outputs": [
    {
     "data": {
      "text/plain": [
       "AGE_GROUP\n",
       "0-17        0.001972\n",
       "18-44       0.009041\n",
       "45-64       0.051704\n",
       "65-74       0.168114\n",
       "75+         0.348490\n",
       "Citywide    0.083967\n",
       "dtype: float64"
      ]
     },
     "execution_count": 13,
     "metadata": {},
     "output_type": "execute_result"
    }
   ],
   "source": [
    "result = df[\"DEATH_COUNT\"]/df[\"CASE_COUNT\"]\n",
    "result.index = df[\"AGE_GROUP\"]\n",
    "result"
   ]
  },
  {
   "cell_type": "code",
   "execution_count": 16,
   "metadata": {},
   "outputs": [],
   "source": [
    "df = pd.read_csv(\"coronavirus-data/by-sex.csv\")"
   ]
  },
  {
   "cell_type": "code",
   "execution_count": 18,
   "metadata": {},
   "outputs": [
    {
     "data": {
      "text/plain": [
       "SEX_GROUP\n",
       "Female      0.068039\n",
       "Male        0.098744\n",
       "Citywide    0.083967\n",
       "dtype: float64"
      ]
     },
     "execution_count": 18,
     "metadata": {},
     "output_type": "execute_result"
    }
   ],
   "source": [
    "result = df[\"DEATH_COUNT\"] / df[\"CASE_COUNT\"]\n",
    "result.index = df[\"SEX_GROUP\"]\n",
    "result"
   ]
  },
  {
   "cell_type": "code",
   "execution_count": 19,
   "metadata": {},
   "outputs": [],
   "source": [
    "df = pd.read_csv(\"coronavirus-data/by-poverty.csv\")"
   ]
  },
  {
   "cell_type": "code",
   "execution_count": 21,
   "metadata": {},
   "outputs": [
    {
     "data": {
      "text/plain": [
       "POVERTY_GROUP\n",
       "Low poverty          0.071343\n",
       "Medium poverty       0.085031\n",
       "High poverty         0.097691\n",
       "Very high poverty    0.085830\n",
       "dtype: float64"
      ]
     },
     "execution_count": 21,
     "metadata": {},
     "output_type": "execute_result"
    }
   ],
   "source": [
    "result = df[\"DEATH_COUNT\"] / df[\"CASE_COUNT\"]\n",
    "result.index = df[\"POVERTY_GROUP\"]\n",
    "result"
   ]
  },
  {
   "cell_type": "code",
   "execution_count": 22,
   "metadata": {},
   "outputs": [],
   "source": [
    "df = pd.read_csv(\"coronavirus-data/by-race.csv\")"
   ]
  },
  {
   "cell_type": "code",
   "execution_count": 24,
   "metadata": {},
   "outputs": [
    {
     "data": {
      "text/plain": [
       "RACE_GROUP\n",
       "Asian/Pacific-Islander    0.164250\n",
       "Black/African-American    0.147279\n",
       "Hispanic/Latino           0.152931\n",
       "White                     0.138189\n",
       "dtype: float64"
      ]
     },
     "execution_count": 24,
     "metadata": {},
     "output_type": "execute_result"
    }
   ],
   "source": [
    "result = df[\"DEATH_COUNT\"] / df[\"CASE_COUNT\"]\n",
    "result.index = df[\"RACE_GROUP\"]\n",
    "result"
   ]
  },
  {
   "cell_type": "code",
   "execution_count": 26,
   "metadata": {},
   "outputs": [],
   "source": [
    "df = pd.read_csv(\"coronavirus-data/case-hosp-death.csv\")"
   ]
  },
  {
   "cell_type": "code",
   "execution_count": 65,
   "metadata": {},
   "outputs": [
    {
     "data": {
      "text/plain": [
       "<matplotlib.axes._subplots.AxesSubplot at 0x7fd84804ed50>"
      ]
     },
     "execution_count": 65,
     "metadata": {},
     "output_type": "execute_result"
    },
    {
     "data": {
      "image/png": "[encoded data removed]",
      "text/plain": [
       "<Figure size 432x288 with 1 Axes>"
      ]
     },
     "metadata": {
      "needs_background": "light"
     },
     "output_type": "display_data"
    }
   ],
   "source": [
    "from statsmodels.tsa.seasonal import seasonal_decompose\n",
    "result = []\n",
    "dates = []\n",
    "result2 = []\n",
    "for index, row in df.iterrows():\n",
    "    if row[\"DEATH_COUNT\"] == 0:\n",
    "        continue\n",
    "    result.append(row[\"DEATH_COUNT\"]/row[\"CASE_COUNT\"])\n",
    "    result2.append(row[\"DEATH_COUNT\"])\n",
    "    dates.append(row[\"DATE_OF_INTEREST\"])\n",
    "result = pd.Series(result)\n",
    "result.index = pd.to_datetime(dates)\n",
    "result2 = pd.Series(result2)\n",
    "result2.index = pd.to_datetime(dates)\n",
    "result.plot()\n",
    "seasonal_decompose(result.iloc[1:]).trend.plot()"
   ]
  },
  {
   "cell_type": "code",
   "execution_count": 66,
   "metadata": {},
   "outputs": [
    {
     "data": {
      "text/plain": [
       "<matplotlib.axes._subplots.AxesSubplot at 0x7fd847fa8310>"
      ]
     },
     "execution_count": 66,
     "metadata": {},
     "output_type": "execute_result"
    },
    {
     "data": {
      "image/png": "[encoded data removed]",
      "text/plain": [
       "<Figure size 432x288 with 1 Axes>"
      ]
     },
     "metadata": {
      "needs_background": "light"
     },
     "output_type": "display_data"
    }
   ],
   "source": [
    "result2.plot()\n",
    "seasonal_decompose(result2.iloc[1:]).trend.plot()"
   ]
  },
  {
   "cell_type": "code",
   "execution_count": null,
   "metadata": {},
   "outputs": [],
   "source": []
  }
 ],
 "metadata": {
  "kernelspec": {
   "display_name": "Python 3",
   "language": "python",
   "name": "python3"
  },
  "language_info": {
   "codemirror_mode": {
    "name": "ipython",
    "version": 3
   },
   "file_extension": ".py",
   "mimetype": "text/x-python",
   "name": "python",
   "nbconvert_exporter": "python",
   "pygments_lexer": "ipython3",
   "version": "3.7.7"
  }
 },
 "nbformat": 4,
 "nbformat_minor": 4
}
